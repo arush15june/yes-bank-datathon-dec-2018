{
 "cells": [
  {
   "cell_type": "markdown",
   "metadata": {},
   "source": [
    "# Importing libraries."
   ]
  },
  {
   "cell_type": "code",
   "execution_count": 183,
   "metadata": {},
   "outputs": [],
   "source": [
    "import pandas as pd\n",
    "import numpy as np"
   ]
  },
  {
   "cell_type": "code",
   "execution_count": 247,
   "metadata": {},
   "outputs": [],
   "source": [
    "from sklearn.preprocessing import LabelEncoder\n",
    "from sklearn.utils import resample\n",
    "from sklearn.model_selection import StratifiedShuffleSplit"
   ]
  },
  {
   "cell_type": "markdown",
   "metadata": {},
   "source": [
    "# Importing data."
   ]
  },
  {
   "cell_type": "markdown",
   "metadata": {},
   "source": [
    "#### Original data."
   ]
  },
  {
   "cell_type": "code",
   "execution_count": 185,
   "metadata": {},
   "outputs": [],
   "source": [
    "train_data = pd.read_csv('./Yes_Bank_Training.csv')\n",
    "test_data = pd.read_csv('./Yes_Bank_Test.csv')\n",
    "train_df = train_data\n",
    "test_df = test_data"
   ]
  },
  {
   "cell_type": "markdown",
   "metadata": {},
   "source": [
    "#### Processed data."
   ]
  },
  {
   "cell_type": "code",
   "execution_count": 186,
   "metadata": {},
   "outputs": [
    {
     "name": "stdout",
     "output_type": "stream",
     "text": [
      "Numerical train data.\n",
      "Columns:  5\n",
      "Index(['serial_number', 'age_in_years', 'balance_in_account', 'call_duration',\n",
      "       'campaign_contacts'],\n",
      "      dtype='object')\n",
      "Dropped 'serial_number'\n",
      "(31649, 4)\n",
      "\n",
      "\n",
      "Categorical train data.\n",
      "Columns:  8\n",
      "Index(['job_description', 'marital_status', 'education_details', 'has_default',\n",
      "       'housing_status', 'previous_loan', 'phone_type', 'date'],\n",
      "      dtype='object')\n",
      "Dropped 'date'\n",
      "(31649, 7)\n",
      "\n",
      "\n",
      "Numerical test data.\n",
      "Columns:  5\n",
      "Index(['serial_number', 'age_in_years', 'balance_in_account', 'call_duration',\n",
      "       'campaign_contacts'],\n",
      "      dtype='object')\n",
      "Dropped 'serial_number'\n",
      "(13562, 4)\n",
      "\n",
      "\n",
      "Categorical test data.\n",
      "Columns:  8\n",
      "Index(['job_description', 'marital_status', 'education_details', 'has_default',\n",
      "       'housing_status', 'previous_loan', 'phone_type', 'date'],\n",
      "      dtype='object')\n",
      "Dropped 'date'\n",
      "(13562, 7)\n"
     ]
    }
   ],
   "source": [
    "pre_num = pd.read_csv(\"./preprocessed_numerical.csv\")\n",
    "print(\"Numerical train data.\\nColumns: \",len(pre_num.columns))\n",
    "print(pre_num.columns)\n",
    "pre_num = pre_num.drop(['serial_number'], axis = 1)\n",
    "print(\"Dropped 'serial_number'\")\n",
    "\n",
    "print(pre_num.shape)\n",
    "print(\"\\n\")\n",
    "\n",
    "pre_cat = pd.read_csv(\"./preprocessed_categorical.csv\")\n",
    "print(\"Categorical train data.\\nColumns: \",len(pre_cat.columns))\n",
    "print(pre_cat.columns)\n",
    "pre_cat = pre_cat.drop(['date'], axis = 1)\n",
    "print(\"Dropped 'date'\")\n",
    "\n",
    "print(pre_cat.shape)\n",
    "print(\"\\n\")\n",
    "\n",
    "pre_num_test = pd.read_csv(\"./preprocessed_numerical_test.csv\")\n",
    "print(\"Numerical test data.\\nColumns: \",len(pre_num_test.columns))\n",
    "print(pre_num_test.columns)\n",
    "pre_num_test = pre_num_test.drop(['serial_number'], axis = 1)\n",
    "print(\"Dropped 'serial_number'\")\n",
    "\n",
    "print(pre_num_test.shape)\n",
    "print(\"\\n\")\n",
    "\n",
    "pre_cat_test = pd.read_csv(\"./preprocessed_categorical_test.csv\")\n",
    "print(\"Categorical test data.\\nColumns: \",len(pre_cat_test.columns))\n",
    "print(pre_cat_test.columns)\n",
    "pre_cat_test = pre_cat_test.drop(['date'], axis = 1)\n",
    "print(\"Dropped 'date'\")\n",
    "\n",
    "print(pre_cat_test.shape)"
   ]
  },
  {
   "cell_type": "markdown",
   "metadata": {},
   "source": [
    "#### Labels."
   ]
  },
  {
   "cell_type": "code",
   "execution_count": 229,
   "metadata": {},
   "outputs": [],
   "source": [
    "labels = train_data['outcome']"
   ]
  },
  {
   "cell_type": "markdown",
   "metadata": {},
   "source": [
    "# Cleaning data."
   ]
  },
  {
   "cell_type": "code",
   "execution_count": 188,
   "metadata": {},
   "outputs": [
    {
     "name": "stdout",
     "output_type": "stream",
     "text": [
      "Index(['serial_number', 'age_in_years', 'job_description', 'marital_status',\n",
      "       'education_details', 'has_default', 'balance_in_account',\n",
      "       'housing_status', 'previous_loan', 'phone_type', 'date',\n",
      "       'month_of_year', 'call_duration', 'campaign_contacts', 'days_passed',\n",
      "       'previous_contact', 'poutcome_of_campaign', 'outcome'],\n",
      "      dtype='object')\n"
     ]
    }
   ],
   "source": [
    "print(train_data.columns)"
   ]
  },
  {
   "cell_type": "markdown",
   "metadata": {},
   "source": [
    "## Removing features."
   ]
  },
  {
   "cell_type": "code",
   "execution_count": 189,
   "metadata": {},
   "outputs": [],
   "source": [
    "train_df = train_df.drop(axis=1, columns=['days_passed', 'campaign_contacts', 'month_of_year', 'date'])\n",
    "test_df = test_df.drop(axis=1, columns=['days_passed', 'campaign_contacts', 'month_of_year', 'date'])"
   ]
  },
  {
   "cell_type": "markdown",
   "metadata": {},
   "source": [
    "## Removing unknowns."
   ]
  },
  {
   "cell_type": "markdown",
   "metadata": {},
   "source": [
    "#### Prints count for all values in each category of a feature."
   ]
  },
  {
   "cell_type": "code",
   "execution_count": 190,
   "metadata": {},
   "outputs": [
    {
     "name": "stdout",
     "output_type": "stream",
     "text": [
      "age_in_years\n",
      "19       6\n",
      "20      10\n",
      "21      22\n",
      "22      42\n",
      "23      84\n",
      "24     119\n",
      "25     279\n",
      "26     506\n",
      "27     563\n",
      "28     622\n",
      "29     700\n",
      "30    1203\n",
      "31    1436\n",
      "32    1455\n",
      "33    1320\n",
      "34    1287\n",
      "35    1298\n",
      "36    1266\n",
      "37    1173\n",
      "38    1043\n",
      "39    1072\n",
      "40    1006\n",
      "41     992\n",
      "42     931\n",
      "43     863\n",
      "44     880\n",
      "45     953\n",
      "46     906\n",
      "47     845\n",
      "48     771\n",
      "      ... \n",
      "56     626\n",
      "57     645\n",
      "58     582\n",
      "59     621\n",
      "60     431\n",
      "61      42\n",
      "62       9\n",
      "63       7\n",
      "64       8\n",
      "65       6\n",
      "66       6\n",
      "67       4\n",
      "68       5\n",
      "69       5\n",
      "70       4\n",
      "71       5\n",
      "72       3\n",
      "73       5\n",
      "74       2\n",
      "75       5\n",
      "76       2\n",
      "77       2\n",
      "78       3\n",
      "79       1\n",
      "80       1\n",
      "82       1\n",
      "83       6\n",
      "85       2\n",
      "90       1\n",
      "94       1\n",
      "Length: 67, dtype: int64\n",
      "\n",
      "\n",
      "job_description\n",
      "admin.           3354\n",
      "blue-collar      6948\n",
      "entrepreneur     1160\n",
      "housemaid         969\n",
      "management       6705\n",
      "retired          1232\n",
      "self-employed    1164\n",
      "services         2965\n",
      "student           297\n",
      "technician       5684\n",
      "unemployed        950\n",
      "unknown           221\n",
      "dtype: int64\n",
      "\n",
      "\n",
      "marital_status\n",
      "divorced     3799\n",
      "married     19784\n",
      "single       8066\n",
      "dtype: int64\n",
      "\n",
      "\n",
      "education_details\n",
      "primary       4977\n",
      "secondary    16303\n",
      "tertiary      9097\n",
      "unknown       1272\n",
      "dtype: int64\n",
      "\n",
      "\n",
      "has_default\n",
      "no     30925\n",
      "yes      724\n",
      "dtype: int64\n",
      "\n",
      "\n",
      "balance_in_account\n",
      "-8019     1\n",
      "-6847     1\n",
      "-3372     1\n",
      "-3313     1\n",
      "-2827     1\n",
      "-2712     1\n",
      "-2604     1\n",
      "-2282     1\n",
      "-2122     1\n",
      "-2093     1\n",
      "-2082     1\n",
      "-2049     1\n",
      "-1980     1\n",
      "-1968     1\n",
      "-1965     1\n",
      "-1941     1\n",
      "-1884     1\n",
      "-1882     1\n",
      "-1854     1\n",
      "-1818     1\n",
      "-1781     1\n",
      "-1779     1\n",
      "-1746     1\n",
      "-1737     1\n",
      "-1725     1\n",
      "-1701     1\n",
      "-1680     1\n",
      "-1668     1\n",
      "-1664     1\n",
      "-1661     1\n",
      "         ..\n",
      " 34247    1\n",
      " 34646    1\n",
      " 35368    1\n",
      " 35589    1\n",
      " 36221    1\n",
      " 36935    1\n",
      " 37176    1\n",
      " 37378    1\n",
      " 38279    1\n",
      " 41242    1\n",
      " 41630    1\n",
      " 41923    1\n",
      " 42045    1\n",
      " 43074    1\n",
      " 44128    1\n",
      " 44134    1\n",
      " 45141    1\n",
      " 45248    1\n",
      " 45789    1\n",
      " 51439    1\n",
      " 52499    1\n",
      " 52527    1\n",
      " 56831    1\n",
      " 57435    1\n",
      " 58544    1\n",
      " 58932    1\n",
      " 64343    1\n",
      " 66653    1\n",
      " 66721    1\n",
      " 98417    1\n",
      "Length: 6405, dtype: int64\n",
      "\n",
      "\n",
      "housing_status\n",
      "no     14419\n",
      "yes    17230\n",
      "dtype: int64\n",
      "\n",
      "\n",
      "previous_loan\n",
      "no     25847\n",
      "yes     5802\n",
      "dtype: int64\n",
      "\n",
      "\n",
      "phone_type\n",
      "cellular     17181\n",
      "telephone     1703\n",
      "unknown      12765\n",
      "dtype: int64\n",
      "\n",
      "\n",
      "call_duration\n",
      "0        2\n",
      "2        3\n",
      "3        4\n",
      "4        4\n",
      "5       13\n",
      "6       15\n",
      "7       35\n",
      "8       49\n",
      "9       39\n",
      "10      48\n",
      "11      55\n",
      "12      50\n",
      "13      66\n",
      "14      58\n",
      "15      52\n",
      "16      56\n",
      "17      49\n",
      "18      68\n",
      "19      49\n",
      "20      60\n",
      "21      61\n",
      "22      57\n",
      "23      54\n",
      "24      64\n",
      "25      63\n",
      "26      52\n",
      "27      60\n",
      "28      35\n",
      "29      62\n",
      "30      48\n",
      "        ..\n",
      "2330     1\n",
      "2372     1\n",
      "2420     1\n",
      "2429     1\n",
      "2453     1\n",
      "2456     1\n",
      "2462     1\n",
      "2485     1\n",
      "2516     1\n",
      "2621     1\n",
      "2635     1\n",
      "2653     1\n",
      "2692     1\n",
      "2769     1\n",
      "2770     1\n",
      "2775     1\n",
      "2870     1\n",
      "3025     1\n",
      "3076     1\n",
      "3078     1\n",
      "3094     1\n",
      "3102     1\n",
      "3183     1\n",
      "3253     1\n",
      "3284     1\n",
      "3322     1\n",
      "3366     1\n",
      "3422     1\n",
      "3881     1\n",
      "4918     1\n",
      "Length: 1469, dtype: int64\n",
      "\n",
      "\n",
      "previous_contact\n",
      "0      29591\n",
      "1        706\n",
      "2        574\n",
      "3        262\n",
      "4        182\n",
      "5         91\n",
      "6         56\n",
      "7         46\n",
      "8         33\n",
      "9         24\n",
      "10         9\n",
      "11         9\n",
      "12         9\n",
      "13        12\n",
      "14         7\n",
      "15         7\n",
      "16         5\n",
      "17         3\n",
      "18         3\n",
      "20         2\n",
      "21         1\n",
      "23         2\n",
      "24         2\n",
      "25         2\n",
      "26         1\n",
      "27         4\n",
      "29         2\n",
      "37         1\n",
      "38         1\n",
      "51         1\n",
      "275        1\n",
      "dtype: int64\n",
      "\n",
      "\n",
      "poutcome_of_campaign\n",
      "failure     1439\n",
      "other        538\n",
      "success       81\n",
      "unknown    29591\n",
      "dtype: int64\n",
      "\n",
      "\n"
     ]
    }
   ],
   "source": [
    "for c in train_df.columns:\n",
    "    if c=='serial_number' or c=='outcome':\n",
    "        continue\n",
    "    print(train_df.groupby(c).size())\n",
    "    print(\"\\n\")"
   ]
  },
  {
   "cell_type": "markdown",
   "metadata": {},
   "source": [
    "#### Function to replace unknowns. Pass values of column under focus and value to replace unknown with."
   ]
  },
  {
   "cell_type": "markdown",
   "metadata": {},
   "source": [
    "Use with original dataset."
   ]
  },
  {
   "cell_type": "code",
   "execution_count": 191,
   "metadata": {},
   "outputs": [],
   "source": [
    "def replace_unknown(col, replace):\n",
    "    print(train_data[col].unique())\n",
    "    ind = []\n",
    "    for index, row in train_data.iterrows():\n",
    "        if row[col] == 'unknown':\n",
    "            ind.append(index)\n",
    "    \n",
    "    print(len(ind))\n",
    "    for index in ind:\n",
    "        train_data.at[ind,col]=replace\n",
    "\n",
    "    print(train_data[col].unique())"
   ]
  },
  {
   "cell_type": "markdown",
   "metadata": {},
   "source": [
    "From 'job_description'."
   ]
  },
  {
   "cell_type": "code",
   "execution_count": 192,
   "metadata": {},
   "outputs": [
    {
     "name": "stdout",
     "output_type": "stream",
     "text": [
      "['management' 'technician' 'entrepreneur' 'blue-collar' 'unknown'\n",
      " 'retired' 'admin.' 'services' 'self-employed' 'unemployed' 'housemaid'\n",
      " 'student']\n",
      "221\n",
      "['management' 'technician' 'entrepreneur' 'blue-collar' 'retired' 'admin.'\n",
      " 'services' 'self-employed' 'unemployed' 'housemaid' 'student']\n"
     ]
    }
   ],
   "source": [
    "replace_unknown('job_description','blue-collar')"
   ]
  },
  {
   "cell_type": "markdown",
   "metadata": {},
   "source": [
    "From 'education_details'"
   ]
  },
  {
   "cell_type": "code",
   "execution_count": 193,
   "metadata": {},
   "outputs": [
    {
     "name": "stdout",
     "output_type": "stream",
     "text": [
      "['tertiary' 'secondary' 'unknown' 'primary']\n",
      "1272\n",
      "['tertiary' 'secondary' 'primary']\n"
     ]
    }
   ],
   "source": [
    "replace_unknown('education_details','secondary')"
   ]
  },
  {
   "cell_type": "markdown",
   "metadata": {},
   "source": [
    "## Encoding data."
   ]
  },
  {
   "cell_type": "markdown",
   "metadata": {},
   "source": [
    "#### Constructing encoder."
   ]
  },
  {
   "cell_type": "code",
   "execution_count": 212,
   "metadata": {},
   "outputs": [],
   "source": [
    "le1 = LabelEncoder()\n",
    "le2 = LabelEncoder()\n",
    "le3 = LabelEncoder()\n",
    "le4 = LabelEncoder()\n",
    "le5 = LabelEncoder()\n",
    "le6 = LabelEncoder()\n",
    "le7 = LabelEncoder()\n",
    "lel = LabelEncoder()"
   ]
  },
  {
   "cell_type": "markdown",
   "metadata": {},
   "source": [
    "#### Joining numerical and categorical data together into a single dataframe."
   ]
  },
  {
   "cell_type": "code",
   "execution_count": 213,
   "metadata": {},
   "outputs": [],
   "source": [
    "pre_encoded = pre_num.join(pre_cat)\n",
    "pre_encoded_test = pre_num_test.join(pre_cat_test)"
   ]
  },
  {
   "cell_type": "code",
   "execution_count": 214,
   "metadata": {},
   "outputs": [
    {
     "data": {
      "text/plain": [
       "(31649, 11)"
      ]
     },
     "execution_count": 214,
     "metadata": {},
     "output_type": "execute_result"
    }
   ],
   "source": [
    "pre_encoded.shape"
   ]
  },
  {
   "cell_type": "markdown",
   "metadata": {},
   "source": [
    "#### Encoding data."
   ]
  },
  {
   "cell_type": "code",
   "execution_count": 215,
   "metadata": {},
   "outputs": [],
   "source": [
    "le1.fit(pre_encoded['job_description'])\n",
    "le2.fit(pre_encoded['marital_status'])\n",
    "le3.fit(pre_encoded['education_details'])\n",
    "le4.fit(pre_encoded['has_default'])\n",
    "le5.fit(pre_encoded['housing_status'])\n",
    "le6.fit(pre_encoded['previous_loan'])\n",
    "le7.fit(pre_encoded['phone_type'])\n",
    "\n",
    "encoded = pre_encoded.copy()\n",
    "encoded_test = pre_encoded_test.copy()"
   ]
  },
  {
   "cell_type": "code",
   "execution_count": 216,
   "metadata": {},
   "outputs": [
    {
     "name": "stdout",
     "output_type": "stream",
     "text": [
      "{'admin.': 0, 'blue-collar': 1, 'entrepreneur': 2, 'housemaid': 3, 'management': 4, 'retired': 5, 'self-employed': 6, 'services': 7, 'student': 8, 'technician': 9, 'unemployed': 10} \n",
      "\n",
      "{'divorced': 0, 'married': 1, 'single': 2} \n",
      "\n",
      "{'primary': 0, 'secondary': 1, 'tertiary': 2} \n",
      "\n",
      "{'no': 0, 'yes': 1} \n",
      "\n",
      "{'no': 0, 'yes': 1} \n",
      "\n",
      "{'no': 0, 'yes': 1} \n",
      "\n",
      "{'cellular': 0, 'telephone': 1} \n",
      "\n"
     ]
    }
   ],
   "source": [
    "le1_name_mapping = dict(zip(le1.classes_, le1.transform(le1.classes_)))\n",
    "print(le1_name_mapping, \"\\n\")\n",
    "\n",
    "le2_name_mapping = dict(zip(le2.classes_, le2.transform(le2.classes_)))\n",
    "print(le2_name_mapping, \"\\n\")\n",
    "\n",
    "le3_name_mapping = dict(zip(le3.classes_, le3.transform(le3.classes_)))\n",
    "print(le3_name_mapping, \"\\n\")\n",
    "\n",
    "le4_name_mapping = dict(zip(le4.classes_, le4.transform(le4.classes_)))\n",
    "print(le4_name_mapping, \"\\n\")\n",
    "\n",
    "le5_name_mapping = dict(zip(le5.classes_, le5.transform(le5.classes_)))\n",
    "print(le5_name_mapping, \"\\n\")\n",
    "\n",
    "le6_name_mapping = dict(zip(le6.classes_, le6.transform(le6.classes_)))\n",
    "print(le6_name_mapping, \"\\n\")\n",
    "\n",
    "le7_name_mapping = dict(zip(le7.classes_, le7.transform(le7.classes_)))\n",
    "print(le7_name_mapping, \"\\n\")"
   ]
  },
  {
   "cell_type": "code",
   "execution_count": 217,
   "metadata": {},
   "outputs": [],
   "source": [
    "encoded['job_description'] = le1.transform(encoded['job_description'])\n",
    "encoded['marital_status'] = le2.transform(encoded['marital_status'])\n",
    "encoded['education_details'] = le3.transform(encoded['education_details'])\n",
    "encoded['has_default'] = le4.transform(encoded['has_default'])\n",
    "encoded['housing_status'] = le5.transform(encoded['housing_status'])\n",
    "encoded['previous_loan'] = le6.transform(encoded['previous_loan'])\n",
    "encoded['phone_type'] = le7.transform(encoded['phone_type'])"
   ]
  },
  {
   "cell_type": "code",
   "execution_count": 218,
   "metadata": {},
   "outputs": [],
   "source": [
    "encoded_test['job_description'] = le1.transform(encoded_test['job_description'])\n",
    "encoded_test['marital_status'] = le2.transform(encoded_test['marital_status'])\n",
    "encoded_test['education_details'] = le3.transform(encoded_test['education_details'])\n",
    "encoded_test['has_default'] = le4.transform(encoded_test['has_default'])\n",
    "encoded_test['housing_status'] = le5.transform(encoded_test['housing_status'])\n",
    "encoded_test['previous_loan'] = le6.transform(encoded_test['previous_loan'])\n",
    "encoded_test['phone_type'] = le7.transform(encoded_test['phone_type'])"
   ]
  },
  {
   "cell_type": "markdown",
   "metadata": {},
   "source": [
    "#### Encoding labels."
   ]
  },
  {
   "cell_type": "code",
   "execution_count": 230,
   "metadata": {},
   "outputs": [
    {
     "data": {
      "text/plain": [
       "LabelEncoder()"
      ]
     },
     "execution_count": 230,
     "metadata": {},
     "output_type": "execute_result"
    }
   ],
   "source": [
    "lel.fit(labels)"
   ]
  },
  {
   "cell_type": "code",
   "execution_count": 231,
   "metadata": {},
   "outputs": [
    {
     "name": "stdout",
     "output_type": "stream",
     "text": [
      "{'no': 0, 'yes': 1}\n"
     ]
    }
   ],
   "source": [
    "lel_name_mapping = dict(zip(lel.classes_, lel.transform(lel.classes_)))\n",
    "print(lel_name_mapping)"
   ]
  },
  {
   "cell_type": "code",
   "execution_count": 237,
   "metadata": {},
   "outputs": [],
   "source": [
    "lelab = pd.DataFrame(lel.transform(labels), columns = ['outcome'])"
   ]
  },
  {
   "cell_type": "markdown",
   "metadata": {},
   "source": [
    "## Upsampling."
   ]
  },
  {
   "cell_type": "code",
   "execution_count": 238,
   "metadata": {},
   "outputs": [],
   "source": [
    "upsample = encoded.join(lelab)"
   ]
  },
  {
   "cell_type": "code",
   "execution_count": 240,
   "metadata": {},
   "outputs": [],
   "source": [
    "df_majority = upsample[upsample.outcome==0]\n",
    "df_minority = upsample[upsample.outcome==1]"
   ]
  },
  {
   "cell_type": "code",
   "execution_count": 243,
   "metadata": {},
   "outputs": [],
   "source": [
    "df_minority_upsampled = resample(df_minority, replace = True, n_samples = df_majority.shape[0], random_state = 42)"
   ]
  },
  {
   "cell_type": "code",
   "execution_count": 244,
   "metadata": {},
   "outputs": [],
   "source": [
    "df_upsampled = pd.concat([df_majority, df_minority_upsampled])"
   ]
  },
  {
   "cell_type": "code",
   "execution_count": 245,
   "metadata": {},
   "outputs": [
    {
     "data": {
      "text/plain": [
       "1    29809\n",
       "0    29809\n",
       "Name: outcome, dtype: int64"
      ]
     },
     "execution_count": 245,
     "metadata": {},
     "output_type": "execute_result"
    }
   ],
   "source": [
    "df_upsampled.outcome.value_counts()"
   ]
  },
  {
   "cell_type": "code",
   "execution_count": 251,
   "metadata": {},
   "outputs": [],
   "source": [
    "Y = df_upsampled['outcome']\n",
    "X = df_upsampled.drop(['outcome'], axis = 1)"
   ]
  },
  {
   "cell_type": "markdown",
   "metadata": {},
   "source": [
    "## Data split."
   ]
  },
  {
   "cell_type": "code",
   "execution_count": 256,
   "metadata": {},
   "outputs": [],
   "source": [
    "sss = StratifiedShuffleSplit(test_size=0.3)"
   ]
  },
  {
   "cell_type": "code",
   "execution_count": 261,
   "metadata": {},
   "outputs": [],
   "source": [
    "for train_ix, test_ix in sss.split(X = X.values, y = Y.values):\n",
    "    x_train, y_train = X.values[train_ix], Y.values[train_ix]\n",
    "    x_val, y_val = X.values[test_ix], Y.values[test_ix]"
   ]
  },
  {
   "cell_type": "markdown",
   "metadata": {},
   "source": [
    "# Train."
   ]
  },
  {
   "cell_type": "markdown",
   "metadata": {},
   "source": [
    "## Classifier."
   ]
  },
  {
   "cell_type": "code",
   "execution_count": 263,
   "metadata": {},
   "outputs": [],
   "source": [
    "from sklearn.ensemble import RandomForestClassifier"
   ]
  },
  {
   "cell_type": "code",
   "execution_count": 264,
   "metadata": {},
   "outputs": [
    {
     "ename": "KeyboardInterrupt",
     "evalue": "",
     "output_type": "error",
     "traceback": [
      "\u001b[0;31m---------------------------------------------------------------------------\u001b[0m",
      "\u001b[0;31mKeyboardInterrupt\u001b[0m                         Traceback (most recent call last)",
      "\u001b[0;32m<ipython-input-264-e3e9753a4a73>\u001b[0m in \u001b[0;36m<module>\u001b[0;34m()\u001b[0m\n\u001b[1;32m      1\u001b[0m \u001b[0mrnd_forest\u001b[0m \u001b[0;34m=\u001b[0m \u001b[0mRandomForestClassifier\u001b[0m\u001b[0;34m(\u001b[0m\u001b[0mn_estimators\u001b[0m\u001b[0;34m=\u001b[0m\u001b[0;36m500\u001b[0m \u001b[0;34m,\u001b[0m \u001b[0mbootstrap\u001b[0m\u001b[0;34m=\u001b[0m\u001b[0;32mTrue\u001b[0m\u001b[0;34m,\u001b[0m \u001b[0mn_jobs\u001b[0m\u001b[0;34m=\u001b[0m\u001b[0;34m-\u001b[0m\u001b[0;36m1\u001b[0m\u001b[0;34m,\u001b[0m \u001b[0mmax_features\u001b[0m\u001b[0;34m=\u001b[0m\u001b[0;36m8\u001b[0m\u001b[0;34m)\u001b[0m\u001b[0;34m\u001b[0m\u001b[0m\n\u001b[0;32m----> 2\u001b[0;31m \u001b[0mrnd_forest\u001b[0m\u001b[0;34m.\u001b[0m\u001b[0mfit\u001b[0m\u001b[0;34m(\u001b[0m\u001b[0mX\u001b[0m\u001b[0;34m=\u001b[0m\u001b[0mx_train\u001b[0m\u001b[0;34m,\u001b[0m \u001b[0my\u001b[0m\u001b[0;34m=\u001b[0m\u001b[0my_train\u001b[0m\u001b[0;34m)\u001b[0m\u001b[0;34m\u001b[0m\u001b[0m\n\u001b[0m\u001b[1;32m      3\u001b[0m \u001b[0mrnd_forest\u001b[0m\u001b[0;34m.\u001b[0m\u001b[0mscore\u001b[0m\u001b[0;34m(\u001b[0m\u001b[0mX\u001b[0m\u001b[0;34m=\u001b[0m\u001b[0mx_val\u001b[0m\u001b[0;34m,\u001b[0m \u001b[0my\u001b[0m\u001b[0;34m=\u001b[0m\u001b[0my_val\u001b[0m\u001b[0;34m)\u001b[0m\u001b[0;34m,\u001b[0m \u001b[0mrnd_forest\u001b[0m\u001b[0;34m.\u001b[0m\u001b[0mscore\u001b[0m\u001b[0;34m(\u001b[0m\u001b[0mX\u001b[0m\u001b[0;34m=\u001b[0m\u001b[0mx_train\u001b[0m\u001b[0;34m,\u001b[0m \u001b[0my\u001b[0m\u001b[0;34m=\u001b[0m\u001b[0my_train\u001b[0m\u001b[0;34m)\u001b[0m\u001b[0;34m\u001b[0m\u001b[0m\n",
      "\u001b[0;32m/usr/local/lib/python3.6/site-packages/sklearn/ensemble/forest.py\u001b[0m in \u001b[0;36mfit\u001b[0;34m(self, X, y, sample_weight)\u001b[0m\n\u001b[1;32m    326\u001b[0m                     \u001b[0mt\u001b[0m\u001b[0;34m,\u001b[0m \u001b[0mself\u001b[0m\u001b[0;34m,\u001b[0m \u001b[0mX\u001b[0m\u001b[0;34m,\u001b[0m \u001b[0my\u001b[0m\u001b[0;34m,\u001b[0m \u001b[0msample_weight\u001b[0m\u001b[0;34m,\u001b[0m \u001b[0mi\u001b[0m\u001b[0;34m,\u001b[0m \u001b[0mlen\u001b[0m\u001b[0;34m(\u001b[0m\u001b[0mtrees\u001b[0m\u001b[0;34m)\u001b[0m\u001b[0;34m,\u001b[0m\u001b[0;34m\u001b[0m\u001b[0m\n\u001b[1;32m    327\u001b[0m                     verbose=self.verbose, class_weight=self.class_weight)\n\u001b[0;32m--> 328\u001b[0;31m                 for i, t in enumerate(trees))\n\u001b[0m\u001b[1;32m    329\u001b[0m \u001b[0;34m\u001b[0m\u001b[0m\n\u001b[1;32m    330\u001b[0m             \u001b[0;31m# Collect newly grown trees\u001b[0m\u001b[0;34m\u001b[0m\u001b[0;34m\u001b[0m\u001b[0m\n",
      "\u001b[0;32m/usr/local/lib/python3.6/site-packages/sklearn/externals/joblib/parallel.py\u001b[0m in \u001b[0;36m__call__\u001b[0;34m(self, iterable)\u001b[0m\n\u001b[1;32m    787\u001b[0m                 \u001b[0;31m# consumption.\u001b[0m\u001b[0;34m\u001b[0m\u001b[0;34m\u001b[0m\u001b[0m\n\u001b[1;32m    788\u001b[0m                 \u001b[0mself\u001b[0m\u001b[0;34m.\u001b[0m\u001b[0m_iterating\u001b[0m \u001b[0;34m=\u001b[0m \u001b[0;32mFalse\u001b[0m\u001b[0;34m\u001b[0m\u001b[0m\n\u001b[0;32m--> 789\u001b[0;31m             \u001b[0mself\u001b[0m\u001b[0;34m.\u001b[0m\u001b[0mretrieve\u001b[0m\u001b[0;34m(\u001b[0m\u001b[0;34m)\u001b[0m\u001b[0;34m\u001b[0m\u001b[0m\n\u001b[0m\u001b[1;32m    790\u001b[0m             \u001b[0;31m# Make sure that we get a last message telling us we are done\u001b[0m\u001b[0;34m\u001b[0m\u001b[0;34m\u001b[0m\u001b[0m\n\u001b[1;32m    791\u001b[0m             \u001b[0melapsed_time\u001b[0m \u001b[0;34m=\u001b[0m \u001b[0mtime\u001b[0m\u001b[0;34m.\u001b[0m\u001b[0mtime\u001b[0m\u001b[0;34m(\u001b[0m\u001b[0;34m)\u001b[0m \u001b[0;34m-\u001b[0m \u001b[0mself\u001b[0m\u001b[0;34m.\u001b[0m\u001b[0m_start_time\u001b[0m\u001b[0;34m\u001b[0m\u001b[0m\n",
      "\u001b[0;32m/usr/local/lib/python3.6/site-packages/sklearn/externals/joblib/parallel.py\u001b[0m in \u001b[0;36mretrieve\u001b[0;34m(self)\u001b[0m\n\u001b[1;32m    697\u001b[0m             \u001b[0;32mtry\u001b[0m\u001b[0;34m:\u001b[0m\u001b[0;34m\u001b[0m\u001b[0m\n\u001b[1;32m    698\u001b[0m                 \u001b[0;32mif\u001b[0m \u001b[0mgetattr\u001b[0m\u001b[0;34m(\u001b[0m\u001b[0mself\u001b[0m\u001b[0;34m.\u001b[0m\u001b[0m_backend\u001b[0m\u001b[0;34m,\u001b[0m \u001b[0;34m'supports_timeout'\u001b[0m\u001b[0;34m,\u001b[0m \u001b[0;32mFalse\u001b[0m\u001b[0;34m)\u001b[0m\u001b[0;34m:\u001b[0m\u001b[0;34m\u001b[0m\u001b[0m\n\u001b[0;32m--> 699\u001b[0;31m                     \u001b[0mself\u001b[0m\u001b[0;34m.\u001b[0m\u001b[0m_output\u001b[0m\u001b[0;34m.\u001b[0m\u001b[0mextend\u001b[0m\u001b[0;34m(\u001b[0m\u001b[0mjob\u001b[0m\u001b[0;34m.\u001b[0m\u001b[0mget\u001b[0m\u001b[0;34m(\u001b[0m\u001b[0mtimeout\u001b[0m\u001b[0;34m=\u001b[0m\u001b[0mself\u001b[0m\u001b[0;34m.\u001b[0m\u001b[0mtimeout\u001b[0m\u001b[0;34m)\u001b[0m\u001b[0;34m)\u001b[0m\u001b[0;34m\u001b[0m\u001b[0m\n\u001b[0m\u001b[1;32m    700\u001b[0m                 \u001b[0;32melse\u001b[0m\u001b[0;34m:\u001b[0m\u001b[0;34m\u001b[0m\u001b[0m\n\u001b[1;32m    701\u001b[0m                     \u001b[0mself\u001b[0m\u001b[0;34m.\u001b[0m\u001b[0m_output\u001b[0m\u001b[0;34m.\u001b[0m\u001b[0mextend\u001b[0m\u001b[0;34m(\u001b[0m\u001b[0mjob\u001b[0m\u001b[0;34m.\u001b[0m\u001b[0mget\u001b[0m\u001b[0;34m(\u001b[0m\u001b[0;34m)\u001b[0m\u001b[0;34m)\u001b[0m\u001b[0;34m\u001b[0m\u001b[0m\n",
      "\u001b[0;32m/usr/local/lib/python3.6/multiprocessing/pool.py\u001b[0m in \u001b[0;36mget\u001b[0;34m(self, timeout)\u001b[0m\n\u001b[1;32m    636\u001b[0m \u001b[0;34m\u001b[0m\u001b[0m\n\u001b[1;32m    637\u001b[0m     \u001b[0;32mdef\u001b[0m \u001b[0mget\u001b[0m\u001b[0;34m(\u001b[0m\u001b[0mself\u001b[0m\u001b[0;34m,\u001b[0m \u001b[0mtimeout\u001b[0m\u001b[0;34m=\u001b[0m\u001b[0;32mNone\u001b[0m\u001b[0;34m)\u001b[0m\u001b[0;34m:\u001b[0m\u001b[0;34m\u001b[0m\u001b[0m\n\u001b[0;32m--> 638\u001b[0;31m         \u001b[0mself\u001b[0m\u001b[0;34m.\u001b[0m\u001b[0mwait\u001b[0m\u001b[0;34m(\u001b[0m\u001b[0mtimeout\u001b[0m\u001b[0;34m)\u001b[0m\u001b[0;34m\u001b[0m\u001b[0m\n\u001b[0m\u001b[1;32m    639\u001b[0m         \u001b[0;32mif\u001b[0m \u001b[0;32mnot\u001b[0m \u001b[0mself\u001b[0m\u001b[0;34m.\u001b[0m\u001b[0mready\u001b[0m\u001b[0;34m(\u001b[0m\u001b[0;34m)\u001b[0m\u001b[0;34m:\u001b[0m\u001b[0;34m\u001b[0m\u001b[0m\n\u001b[1;32m    640\u001b[0m             \u001b[0;32mraise\u001b[0m \u001b[0mTimeoutError\u001b[0m\u001b[0;34m\u001b[0m\u001b[0m\n",
      "\u001b[0;32m/usr/local/lib/python3.6/multiprocessing/pool.py\u001b[0m in \u001b[0;36mwait\u001b[0;34m(self, timeout)\u001b[0m\n\u001b[1;32m    633\u001b[0m \u001b[0;34m\u001b[0m\u001b[0m\n\u001b[1;32m    634\u001b[0m     \u001b[0;32mdef\u001b[0m \u001b[0mwait\u001b[0m\u001b[0;34m(\u001b[0m\u001b[0mself\u001b[0m\u001b[0;34m,\u001b[0m \u001b[0mtimeout\u001b[0m\u001b[0;34m=\u001b[0m\u001b[0;32mNone\u001b[0m\u001b[0;34m)\u001b[0m\u001b[0;34m:\u001b[0m\u001b[0;34m\u001b[0m\u001b[0m\n\u001b[0;32m--> 635\u001b[0;31m         \u001b[0mself\u001b[0m\u001b[0;34m.\u001b[0m\u001b[0m_event\u001b[0m\u001b[0;34m.\u001b[0m\u001b[0mwait\u001b[0m\u001b[0;34m(\u001b[0m\u001b[0mtimeout\u001b[0m\u001b[0;34m)\u001b[0m\u001b[0;34m\u001b[0m\u001b[0m\n\u001b[0m\u001b[1;32m    636\u001b[0m \u001b[0;34m\u001b[0m\u001b[0m\n\u001b[1;32m    637\u001b[0m     \u001b[0;32mdef\u001b[0m \u001b[0mget\u001b[0m\u001b[0;34m(\u001b[0m\u001b[0mself\u001b[0m\u001b[0;34m,\u001b[0m \u001b[0mtimeout\u001b[0m\u001b[0;34m=\u001b[0m\u001b[0;32mNone\u001b[0m\u001b[0;34m)\u001b[0m\u001b[0;34m:\u001b[0m\u001b[0;34m\u001b[0m\u001b[0m\n",
      "\u001b[0;32m/usr/local/lib/python3.6/threading.py\u001b[0m in \u001b[0;36mwait\u001b[0;34m(self, timeout)\u001b[0m\n\u001b[1;32m    549\u001b[0m             \u001b[0msignaled\u001b[0m \u001b[0;34m=\u001b[0m \u001b[0mself\u001b[0m\u001b[0;34m.\u001b[0m\u001b[0m_flag\u001b[0m\u001b[0;34m\u001b[0m\u001b[0m\n\u001b[1;32m    550\u001b[0m             \u001b[0;32mif\u001b[0m \u001b[0;32mnot\u001b[0m \u001b[0msignaled\u001b[0m\u001b[0;34m:\u001b[0m\u001b[0;34m\u001b[0m\u001b[0m\n\u001b[0;32m--> 551\u001b[0;31m                 \u001b[0msignaled\u001b[0m \u001b[0;34m=\u001b[0m \u001b[0mself\u001b[0m\u001b[0;34m.\u001b[0m\u001b[0m_cond\u001b[0m\u001b[0;34m.\u001b[0m\u001b[0mwait\u001b[0m\u001b[0;34m(\u001b[0m\u001b[0mtimeout\u001b[0m\u001b[0;34m)\u001b[0m\u001b[0;34m\u001b[0m\u001b[0m\n\u001b[0m\u001b[1;32m    552\u001b[0m             \u001b[0;32mreturn\u001b[0m \u001b[0msignaled\u001b[0m\u001b[0;34m\u001b[0m\u001b[0m\n\u001b[1;32m    553\u001b[0m \u001b[0;34m\u001b[0m\u001b[0m\n",
      "\u001b[0;32m/usr/local/lib/python3.6/threading.py\u001b[0m in \u001b[0;36mwait\u001b[0;34m(self, timeout)\u001b[0m\n\u001b[1;32m    293\u001b[0m         \u001b[0;32mtry\u001b[0m\u001b[0;34m:\u001b[0m    \u001b[0;31m# restore state no matter what (e.g., KeyboardInterrupt)\u001b[0m\u001b[0;34m\u001b[0m\u001b[0m\n\u001b[1;32m    294\u001b[0m             \u001b[0;32mif\u001b[0m \u001b[0mtimeout\u001b[0m \u001b[0;32mis\u001b[0m \u001b[0;32mNone\u001b[0m\u001b[0;34m:\u001b[0m\u001b[0;34m\u001b[0m\u001b[0m\n\u001b[0;32m--> 295\u001b[0;31m                 \u001b[0mwaiter\u001b[0m\u001b[0;34m.\u001b[0m\u001b[0macquire\u001b[0m\u001b[0;34m(\u001b[0m\u001b[0;34m)\u001b[0m\u001b[0;34m\u001b[0m\u001b[0m\n\u001b[0m\u001b[1;32m    296\u001b[0m                 \u001b[0mgotit\u001b[0m \u001b[0;34m=\u001b[0m \u001b[0;32mTrue\u001b[0m\u001b[0;34m\u001b[0m\u001b[0m\n\u001b[1;32m    297\u001b[0m             \u001b[0;32melse\u001b[0m\u001b[0;34m:\u001b[0m\u001b[0;34m\u001b[0m\u001b[0m\n",
      "\u001b[0;31mKeyboardInterrupt\u001b[0m: "
     ]
    }
   ],
   "source": [
    "rnd_forest = RandomForestClassifier(n_estimators=500 , bootstrap=True, n_jobs=-1, max_features=8)\n",
    "rnd_forest.fit(X=x_train, y=y_train)\n",
    "rnd_forest.score(X=x_val, y=y_val), rnd_forest.score(X=x_train, y=y_train)"
   ]
  },
  {
   "cell_type": "code",
   "execution_count": null,
   "metadata": {},
   "outputs": [],
   "source": []
  }
 ],
 "metadata": {
  "kernelspec": {
   "display_name": "Python 3",
   "language": "python",
   "name": "python3"
  },
  "language_info": {
   "codemirror_mode": {
    "name": "ipython",
    "version": 3
   },
   "file_extension": ".py",
   "mimetype": "text/x-python",
   "name": "python",
   "nbconvert_exporter": "python",
   "pygments_lexer": "ipython3",
   "version": "3.6.6"
  }
 },
 "nbformat": 4,
 "nbformat_minor": 2
}
