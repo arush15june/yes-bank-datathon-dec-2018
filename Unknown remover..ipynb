{
 "cells": [
  {
   "cell_type": "code",
   "execution_count": 1,
   "metadata": {},
   "outputs": [],
   "source": [
    "import pandas as pd\n",
    "import numpy as np"
   ]
  },
  {
   "cell_type": "code",
   "execution_count": 12,
   "metadata": {},
   "outputs": [],
   "source": [
    "train_data = pd.read_csv('./Yes_Bank_Training.csv')\n",
    "test_data = pd.read_csv('./Yes_Bank_Test.csv')"
   ]
  },
  {
   "cell_type": "code",
   "execution_count": 13,
   "metadata": {},
   "outputs": [],
   "source": [
    "train_data = train_data.drop(axis=1, columns=['days_passed', 'campaign_contacts', 'month_of_year', 'date'])\n",
    "test_data = test_data.drop(axis=1, columns=['days_passed', 'campaign_contacts', 'month_of_year', 'date'])"
   ]
  },
  {
   "cell_type": "markdown",
   "metadata": {},
   "source": [
    "# Remove unknown."
   ]
  },
  {
   "cell_type": "code",
   "execution_count": null,
   "metadata": {},
   "outputs": [],
   "source": [
    "def replace_unknown(col, replace):\n",
    "    print(train_data[col].unique())\n",
    "    ind = []\n",
    "    for index, row in train_data.iterrows():\n",
    "        if row[col] == 'unknown':\n",
    "            ind.append(index)\n",
    "    \n",
    "    print(len(ind))\n",
    "    for index in ind:\n",
    "        train_data.at[ind,col]=replace\n",
    "\n",
    "    print(train_data[col].unique())"
   ]
  },
  {
   "cell_type": "markdown",
   "metadata": {},
   "source": [
    "From 'job_description'."
   ]
  },
  {
   "cell_type": "code",
   "execution_count": null,
   "metadata": {},
   "outputs": [],
   "source": [
    "replace_unknown('job_description','blue-collar')"
   ]
  },
  {
   "cell_type": "markdown",
   "metadata": {},
   "source": [
    "From 'education_details'"
   ]
  },
  {
   "cell_type": "code",
   "execution_count": 14,
   "metadata": {},
   "outputs": [],
   "source": [
    "replace_unknown"
   ]
  }
 ],
 "metadata": {
  "kernelspec": {
   "display_name": "Python 3",
   "language": "python",
   "name": "python3"
  },
  "language_info": {
   "codemirror_mode": {
    "name": "ipython",
    "version": 3
   },
   "file_extension": ".py",
   "mimetype": "text/x-python",
   "name": "python",
   "nbconvert_exporter": "python",
   "pygments_lexer": "ipython3",
   "version": "3.6.6"
  }
 },
 "nbformat": 4,
 "nbformat_minor": 2
}
