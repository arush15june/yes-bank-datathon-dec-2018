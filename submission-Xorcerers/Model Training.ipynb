{
 "cells": [
  {
   "cell_type": "markdown",
   "metadata": {},
   "source": [
    "# Importing libraries."
   ]
  },
  {
   "cell_type": "code",
   "execution_count": 4,
   "metadata": {},
   "outputs": [],
   "source": [
    "import pandas as pd\n",
    "import numpy as np"
   ]
  },
  {
   "cell_type": "code",
   "execution_count": 5,
   "metadata": {},
   "outputs": [],
   "source": [
    "from sklearn.preprocessing import LabelEncoder\n",
    "from sklearn.utils import resample\n",
    "from sklearn.model_selection import StratifiedShuffleSplit"
   ]
  },
  {
   "cell_type": "markdown",
   "metadata": {},
   "source": [
    "# Importing data."
   ]
  },
  {
   "cell_type": "markdown",
   "metadata": {},
   "source": [
    "#### Original data."
   ]
  },
  {
   "cell_type": "code",
   "execution_count": 6,
   "metadata": {},
   "outputs": [],
   "source": [
    "train_data = pd.read_csv('./Yes_Bank_Training.csv')\n",
    "test_data = pd.read_csv('./Yes_Bank_Test.csv')\n",
    "train_df = train_data\n",
    "test_df = test_data"
   ]
  },
  {
   "cell_type": "markdown",
   "metadata": {},
   "source": [
    "#### Processed data."
   ]
  },
  {
   "cell_type": "code",
   "execution_count": 7,
   "metadata": {},
   "outputs": [
    {
     "name": "stdout",
     "output_type": "stream",
     "text": [
      "Numerical train data.\n",
      "Columns:  5\n",
      "Index(['serial_number', 'age_in_years', 'balance_in_account', 'call_duration',\n",
      "       'campaign_contacts'],\n",
      "      dtype='object')\n",
      "Dropped 'serial_number'\n",
      "(31649, 4)\n",
      "\n",
      "\n",
      "Categorical train data.\n",
      "Columns:  8\n",
      "Index(['job_description', 'marital_status', 'education_details', 'has_default',\n",
      "       'housing_status', 'previous_loan', 'phone_type', 'date'],\n",
      "      dtype='object')\n",
      "Dropped 'date'\n",
      "(31649, 7)\n",
      "\n",
      "\n",
      "Numerical test data.\n",
      "Columns:  5\n",
      "Index(['serial_number', 'age_in_years', 'balance_in_account', 'call_duration',\n",
      "       'campaign_contacts'],\n",
      "      dtype='object')\n",
      "Dropped 'serial_number'\n",
      "(13562, 4)\n",
      "\n",
      "\n",
      "Categorical test data.\n",
      "Columns:  8\n",
      "Index(['job_description', 'marital_status', 'education_details', 'has_default',\n",
      "       'housing_status', 'previous_loan', 'phone_type', 'date'],\n",
      "      dtype='object')\n",
      "Dropped 'date'\n",
      "(13562, 7)\n"
     ]
    }
   ],
   "source": [
    "pre_num = pd.read_csv(\"./preprocessed_numerical.csv\")\n",
    "print(\"Numerical train data.\\nColumns: \",len(pre_num.columns))\n",
    "print(pre_num.columns)\n",
    "pre_num = pre_num.drop(['serial_number'], axis = 1)\n",
    "print(\"Dropped 'serial_number'\")\n",
    "\n",
    "print(pre_num.shape)\n",
    "print(\"\\n\")\n",
    "\n",
    "pre_cat = pd.read_csv(\"./preprocessed_categorical.csv\")\n",
    "print(\"Categorical train data.\\nColumns: \",len(pre_cat.columns))\n",
    "print(pre_cat.columns)\n",
    "pre_cat = pre_cat.drop(['date'], axis = 1)\n",
    "print(\"Dropped 'date'\")\n",
    "\n",
    "print(pre_cat.shape)\n",
    "print(\"\\n\")\n",
    "\n",
    "pre_num_test = pd.read_csv(\"./preprocessed_numerical_test.csv\")\n",
    "print(\"Numerical test data.\\nColumns: \",len(pre_num_test.columns))\n",
    "print(pre_num_test.columns)\n",
    "pre_num_test = pre_num_test.drop(['serial_number'], axis = 1)\n",
    "print(\"Dropped 'serial_number'\")\n",
    "\n",
    "print(pre_num_test.shape)\n",
    "print(\"\\n\")\n",
    "\n",
    "pre_cat_test = pd.read_csv(\"./preprocessed_categorical_test.csv\")\n",
    "print(\"Categorical test data.\\nColumns: \",len(pre_cat_test.columns))\n",
    "print(pre_cat_test.columns)\n",
    "pre_cat_test = pre_cat_test.drop(['date'], axis = 1)\n",
    "print(\"Dropped 'date'\")\n",
    "\n",
    "print(pre_cat_test.shape)"
   ]
  },
  {
   "cell_type": "markdown",
   "metadata": {},
   "source": [
    "#### Labels."
   ]
  },
  {
   "cell_type": "code",
   "execution_count": 8,
   "metadata": {},
   "outputs": [],
   "source": [
    "labels = train_data['outcome']"
   ]
  },
  {
   "cell_type": "code",
   "execution_count": 9,
   "metadata": {},
   "outputs": [
    {
     "data": {
      "text/plain": [
       "(31649,)"
      ]
     },
     "execution_count": 9,
     "metadata": {},
     "output_type": "execute_result"
    }
   ],
   "source": [
    "labels.shape"
   ]
  },
  {
   "cell_type": "markdown",
   "metadata": {},
   "source": [
    "# Cleaning data."
   ]
  },
  {
   "cell_type": "code",
   "execution_count": 10,
   "metadata": {},
   "outputs": [
    {
     "name": "stdout",
     "output_type": "stream",
     "text": [
      "Index(['serial_number', 'age_in_years', 'job_description', 'marital_status',\n",
      "       'education_details', 'has_default', 'balance_in_account',\n",
      "       'housing_status', 'previous_loan', 'phone_type', 'date',\n",
      "       'month_of_year', 'call_duration', 'campaign_contacts', 'days_passed',\n",
      "       'previous_contact', 'poutcome_of_campaign', 'outcome'],\n",
      "      dtype='object')\n"
     ]
    }
   ],
   "source": [
    "print(train_data.columns)"
   ]
  },
  {
   "cell_type": "markdown",
   "metadata": {},
   "source": [
    "## Encoding data."
   ]
  },
  {
   "cell_type": "markdown",
   "metadata": {},
   "source": [
    "#### Constructing encoder."
   ]
  },
  {
   "cell_type": "code",
   "execution_count": 11,
   "metadata": {},
   "outputs": [],
   "source": [
    "le1 = LabelEncoder()\n",
    "le2 = LabelEncoder()\n",
    "le3 = LabelEncoder()\n",
    "le4 = LabelEncoder()\n",
    "le5 = LabelEncoder()\n",
    "le6 = LabelEncoder()\n",
    "le7 = LabelEncoder()\n",
    "lel = LabelEncoder()"
   ]
  },
  {
   "cell_type": "markdown",
   "metadata": {},
   "source": [
    "#### Joining numerical and categorical data together into a single dataframe."
   ]
  },
  {
   "cell_type": "code",
   "execution_count": 12,
   "metadata": {},
   "outputs": [],
   "source": [
    "pre_encoded = pre_num.join(pre_cat)\n",
    "pre_encoded_test = pre_num_test.join(pre_cat_test)"
   ]
  },
  {
   "cell_type": "code",
   "execution_count": 13,
   "metadata": {},
   "outputs": [
    {
     "data": {
      "text/plain": [
       "(31649, 11)"
      ]
     },
     "execution_count": 13,
     "metadata": {},
     "output_type": "execute_result"
    }
   ],
   "source": [
    "pre_encoded.shape"
   ]
  },
  {
   "cell_type": "markdown",
   "metadata": {},
   "source": [
    "#### Encoding data."
   ]
  },
  {
   "cell_type": "code",
   "execution_count": 14,
   "metadata": {},
   "outputs": [],
   "source": [
    "le1.fit(pre_encoded['job_description'])\n",
    "le2.fit(pre_encoded['marital_status'])\n",
    "le3.fit(pre_encoded['education_details'])\n",
    "le4.fit(pre_encoded['has_default'])\n",
    "le5.fit(pre_encoded['housing_status'])\n",
    "le6.fit(pre_encoded['previous_loan'])\n",
    "le7.fit(pre_encoded['phone_type'])\n",
    "\n",
    "encoded = pre_encoded.copy()\n",
    "encoded_test = pre_encoded_test.copy()"
   ]
  },
  {
   "cell_type": "code",
   "execution_count": 15,
   "metadata": {},
   "outputs": [
    {
     "name": "stdout",
     "output_type": "stream",
     "text": [
      "{'admin.': 0, 'blue-collar': 1, 'entrepreneur': 2, 'housemaid': 3, 'management': 4, 'retired': 5, 'self-employed': 6, 'services': 7, 'student': 8, 'technician': 9, 'unemployed': 10} \n",
      "\n",
      "{'divorced': 0, 'married': 1, 'single': 2} \n",
      "\n",
      "{'primary': 0, 'secondary': 1, 'tertiary': 2} \n",
      "\n",
      "{'no': 0, 'yes': 1} \n",
      "\n",
      "{'no': 0, 'yes': 1} \n",
      "\n",
      "{'no': 0, 'yes': 1} \n",
      "\n",
      "{'cellular': 0, 'telephone': 1} \n",
      "\n"
     ]
    }
   ],
   "source": [
    "le1_name_mapping = dict(zip(le1.classes_, le1.transform(le1.classes_)))\n",
    "print(le1_name_mapping, \"\\n\")\n",
    "\n",
    "le2_name_mapping = dict(zip(le2.classes_, le2.transform(le2.classes_)))\n",
    "print(le2_name_mapping, \"\\n\")\n",
    "\n",
    "le3_name_mapping = dict(zip(le3.classes_, le3.transform(le3.classes_)))\n",
    "print(le3_name_mapping, \"\\n\")\n",
    "\n",
    "le4_name_mapping = dict(zip(le4.classes_, le4.transform(le4.classes_)))\n",
    "print(le4_name_mapping, \"\\n\")\n",
    "\n",
    "le5_name_mapping = dict(zip(le5.classes_, le5.transform(le5.classes_)))\n",
    "print(le5_name_mapping, \"\\n\")\n",
    "\n",
    "le6_name_mapping = dict(zip(le6.classes_, le6.transform(le6.classes_)))\n",
    "print(le6_name_mapping, \"\\n\")\n",
    "\n",
    "le7_name_mapping = dict(zip(le7.classes_, le7.transform(le7.classes_)))\n",
    "print(le7_name_mapping, \"\\n\")"
   ]
  },
  {
   "cell_type": "code",
   "execution_count": 16,
   "metadata": {},
   "outputs": [],
   "source": [
    "encoded['job_description'] = le1.transform(encoded['job_description'])\n",
    "encoded['marital_status'] = le2.transform(encoded['marital_status'])\n",
    "encoded['education_details'] = le3.transform(encoded['education_details'])\n",
    "encoded['has_default'] = le4.transform(encoded['has_default'])\n",
    "encoded['housing_status'] = le5.transform(encoded['housing_status'])\n",
    "encoded['previous_loan'] = le6.transform(encoded['previous_loan'])\n",
    "encoded['phone_type'] = le7.transform(encoded['phone_type'])"
   ]
  },
  {
   "cell_type": "code",
   "execution_count": 17,
   "metadata": {},
   "outputs": [],
   "source": [
    "encoded_test['job_description'] = le1.transform(encoded_test['job_description'])\n",
    "encoded_test['marital_status'] = le2.transform(encoded_test['marital_status'])\n",
    "encoded_test['education_details'] = le3.transform(encoded_test['education_details'])\n",
    "encoded_test['has_default'] = le4.transform(encoded_test['has_default'])\n",
    "encoded_test['housing_status'] = le5.transform(encoded_test['housing_status'])\n",
    "encoded_test['previous_loan'] = le6.transform(encoded_test['previous_loan'])\n",
    "encoded_test['phone_type'] = le7.transform(encoded_test['phone_type'])"
   ]
  },
  {
   "cell_type": "markdown",
   "metadata": {},
   "source": [
    "#### Encoding labels."
   ]
  },
  {
   "cell_type": "code",
   "execution_count": 18,
   "metadata": {},
   "outputs": [
    {
     "data": {
      "text/plain": [
       "LabelEncoder()"
      ]
     },
     "execution_count": 18,
     "metadata": {},
     "output_type": "execute_result"
    }
   ],
   "source": [
    "lel.fit(labels)"
   ]
  },
  {
   "cell_type": "code",
   "execution_count": 19,
   "metadata": {},
   "outputs": [
    {
     "name": "stdout",
     "output_type": "stream",
     "text": [
      "{'no': 0, 'yes': 1}\n"
     ]
    }
   ],
   "source": [
    "lel_name_mapping = dict(zip(lel.classes_, lel.transform(lel.classes_)))\n",
    "print(lel_name_mapping)"
   ]
  },
  {
   "cell_type": "code",
   "execution_count": 20,
   "metadata": {},
   "outputs": [],
   "source": [
    "lelab = pd.DataFrame(lel.transform(labels), columns = ['outcome'])"
   ]
  },
  {
   "cell_type": "markdown",
   "metadata": {},
   "source": [
    "## Upsampling.\n",
    "\n",
    "Since the data provided was biased towards class \"no\", we have increased the class \"yes\" using upsampling so as to reduce Undercoverage bias in the data distribution."
   ]
  },
  {
   "cell_type": "code",
   "execution_count": 21,
   "metadata": {},
   "outputs": [],
   "source": [
    "upsample = encoded.join(lelab)"
   ]
  },
  {
   "cell_type": "code",
   "execution_count": 22,
   "metadata": {},
   "outputs": [],
   "source": [
    "df_majority = upsample[upsample.outcome==0]\n",
    "df_minority = upsample[upsample.outcome==1]"
   ]
  },
  {
   "cell_type": "code",
   "execution_count": 23,
   "metadata": {},
   "outputs": [],
   "source": [
    "df_minority_upsampled = resample(df_minority, replace = True, n_samples = df_majority.shape[0], random_state = 42)"
   ]
  },
  {
   "cell_type": "code",
   "execution_count": 24,
   "metadata": {},
   "outputs": [],
   "source": [
    "df_upsampled = pd.concat([df_majority, df_minority_upsampled])"
   ]
  },
  {
   "cell_type": "code",
   "execution_count": 25,
   "metadata": {},
   "outputs": [
    {
     "data": {
      "text/plain": [
       "1    29809\n",
       "0    29809\n",
       "Name: outcome, dtype: int64"
      ]
     },
     "execution_count": 25,
     "metadata": {},
     "output_type": "execute_result"
    }
   ],
   "source": [
    "df_upsampled.outcome.value_counts()"
   ]
  },
  {
   "cell_type": "code",
   "execution_count": 26,
   "metadata": {},
   "outputs": [],
   "source": [
    "Y = df_upsampled['outcome']\n",
    "X = df_upsampled.drop(['outcome'], axis = 1)"
   ]
  },
  {
   "cell_type": "markdown",
   "metadata": {},
   "source": [
    "## Data split."
   ]
  },
  {
   "cell_type": "code",
   "execution_count": 27,
   "metadata": {},
   "outputs": [],
   "source": [
    "sss = StratifiedShuffleSplit(test_size=0.3)"
   ]
  },
  {
   "cell_type": "code",
   "execution_count": 28,
   "metadata": {},
   "outputs": [],
   "source": [
    "for train_ix, test_ix in sss.split(X = X.values, y = Y.values):\n",
    "    x_train, y_train = X.values[train_ix], Y.values[train_ix]\n",
    "    x_val, y_val = X.values[test_ix], Y.values[test_ix]"
   ]
  },
  {
   "cell_type": "markdown",
   "metadata": {},
   "source": [
    " "
   ]
  },
  {
   "cell_type": "markdown",
   "metadata": {},
   "source": [
    " "
   ]
  },
  {
   "cell_type": "markdown",
   "metadata": {},
   "source": [
    "# Train."
   ]
  },
  {
   "cell_type": "markdown",
   "metadata": {},
   "source": [
    "## Classifier."
   ]
  },
  {
   "cell_type": "code",
   "execution_count": 29,
   "metadata": {},
   "outputs": [],
   "source": [
    "from sklearn.ensemble import RandomForestClassifier"
   ]
  },
  {
   "cell_type": "code",
   "execution_count": 30,
   "metadata": {},
   "outputs": [
    {
     "data": {
      "text/plain": [
       "(0.9789779715978978, 0.9998562254385124)"
      ]
     },
     "execution_count": 30,
     "metadata": {},
     "output_type": "execute_result"
    }
   ],
   "source": [
    "rnd_forest = RandomForestClassifier(n_estimators=500 , bootstrap=True, n_jobs=-1, max_features=8)\n",
    "rnd_forest.fit(X=x_train, y=y_train)\n",
    "rnd_forest.score(X=x_val, y=y_val), rnd_forest.score(X=x_train, y=y_train)"
   ]
  },
  {
   "cell_type": "code",
   "execution_count": null,
   "metadata": {},
   "outputs": [],
   "source": []
  }
 ],
 "metadata": {
  "kernelspec": {
   "display_name": "Python 3",
   "language": "python",
   "name": "python3"
  },
  "language_info": {
   "codemirror_mode": {
    "name": "ipython",
    "version": 3
   },
   "file_extension": ".py",
   "mimetype": "text/x-python",
   "name": "python",
   "nbconvert_exporter": "python",
   "pygments_lexer": "ipython3",
   "version": "3.6.6"
  }
 },
 "nbformat": 4,
 "nbformat_minor": 2
}
